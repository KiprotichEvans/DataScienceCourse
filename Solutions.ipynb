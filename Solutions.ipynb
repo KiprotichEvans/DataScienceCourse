{
 "cells": [
  {
   "cell_type": "markdown",
   "id": "254c9134",
   "metadata": {},
   "source": [
    "# Python Solutions"
   ]
  },
  {
   "cell_type": "code",
   "execution_count": 1,
   "id": "af9f4a56",
   "metadata": {},
   "outputs": [
    {
     "name": "stdout",
     "output_type": "stream",
     "text": [
      "Is 'Madam' a palindrome? True\n"
     ]
    }
   ],
   "source": [
    "\n",
    "# 1. Palindrome Check Without Using a Stack\n",
    "\n",
    "def is_palindrome(s):\n",
    "    # Remove any spaces and convert the string to lowercase\n",
    "    s = s.replace(\" \", \"\").lower()\n",
    "    \n",
    "    # Compare the string with its reverse\n",
    "    return s == s[::-1]\n",
    "\n",
    "# Example usage:\n",
    "string = \"Madam\"\n",
    "print(f\"Is '{string}' a palindrome? {is_palindrome(string)}\")\n"
   ]
  },
  {
   "cell_type": "code",
   "execution_count": null,
   "id": "561e739d",
   "metadata": {},
   "outputs": [],
   "source": [
    "\n",
    "# 2. List Comprehension in Python\n",
    "\n",
    "# a) Square Numbers\n",
    "squares = [x**2 for x in range(10)]\n",
    "print(\"Squares:\", squares)  # Output: [0, 1, 4, 9, 16, 25, 36, 49, 64, 81]\n",
    "\n",
    "# b) Filter Even Numbers\n",
    "even_numbers = [x for x in range(20) if x % 2 == 0]\n",
    "print(\"Even numbers:\", even_numbers)  # Output: [0, 2, 4, 6, 8, 10, 12, 14, 16, 18]\n",
    "\n",
    "# c) Convert Strings to Uppercase\n",
    "words = [\"hello\", \"world\", \"python\"]\n",
    "upper_words = [word.upper() for word in words]\n",
    "print(\"Uppercase words:\", upper_words)  # Output: ['HELLO', 'WORLD', 'PYTHON']\n"
   ]
  },
  {
   "cell_type": "code",
   "execution_count": null,
   "id": "86927309",
   "metadata": {},
   "outputs": [],
   "source": [
    "\n",
    "# 3. Compound Datatypes in Python\n",
    "\n",
    "# Lists can hold multiple types of elements\n",
    "my_list = [1, \"apple\", 3.14]\n",
    "\n",
    "# Dictionaries store key-value pairs\n",
    "my_dict = {\"name\": \"John\", \"age\": 25, \"is_student\": True}\n",
    "\n",
    "# Tuples are immutable sequences\n",
    "my_tuple = (10, \"hello\", 2.5)\n"
   ]
  },
  {
   "cell_type": "code",
   "execution_count": null,
   "id": "5b24f79d",
   "metadata": {},
   "outputs": [],
   "source": [
    "\n",
    "# 4. Bigram Function\n",
    "\n",
    "def bigrams(string):\n",
    "    # Generates a list of consecutive bigrams from the given string\n",
    "    return [string[i:i+2] for i in range(len(string)-1)]\n",
    "\n",
    "# Example usage:\n",
    "text = \"python\"\n",
    "print(\"Bigrams:\", bigrams(text))  # Output: ['py', 'yt', 'th', 'ho', 'on']\n"
   ]
  },
  {
   "cell_type": "code",
   "execution_count": null,
   "id": "7c89dade",
   "metadata": {},
   "outputs": [],
   "source": [
    "\n",
    "# 5. Find Closest Key in a Dictionary\n",
    "\n",
    "def closest_key(dictionary, input_value):\n",
    "    # Finds the key associated with the input_value in the dictionary\n",
    "    for key, value_list in dictionary.items():\n",
    "        if input_value in value_list:\n",
    "            return key\n",
    "    return None\n",
    "\n",
    "# Example usage:\n",
    "letters_dict = {'a': ['apple', 'apricot'], 'b': ['banana', 'blueberry'], 'c': ['cherry', 'cranberry']}\n",
    "input_value = 'banana'\n",
    "print(\"Closest key:\", closest_key(letters_dict, input_value))  # Output: 'b'\n"
   ]
  }
 ],
 "metadata": {
  "kernelspec": {
   "display_name": "base",
   "language": "python",
   "name": "python3"
  },
  "language_info": {
   "codemirror_mode": {
    "name": "ipython",
    "version": 3
   },
   "file_extension": ".py",
   "mimetype": "text/x-python",
   "name": "python",
   "nbconvert_exporter": "python",
   "pygments_lexer": "ipython3",
   "version": "3.11.7"
  }
 },
 "nbformat": 4,
 "nbformat_minor": 5
}
